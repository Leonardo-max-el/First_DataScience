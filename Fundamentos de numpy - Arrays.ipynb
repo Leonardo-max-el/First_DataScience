{
 "cells": [
  {
   "cell_type": "markdown",
   "id": "4504950d",
   "metadata": {},
   "source": [
    "La paqueteria de numpy es una de as herramientas ma populares dentro de la ciencia de datos con python"
   ]
  },
  {
   "cell_type": "code",
   "execution_count": 2,
   "id": "88a849b7",
   "metadata": {},
   "outputs": [],
   "source": [
    "import numpy as np"
   ]
  },
  {
   "cell_type": "code",
   "execution_count": 10,
   "id": "59e4d696",
   "metadata": {},
   "outputs": [
    {
     "data": {
      "text/plain": [
       "array([[8, 7, 8, 5],\n",
       "       [2, 6, 8, 1],\n",
       "       [8, 8, 9, 5]])"
      ]
     },
     "execution_count": 10,
     "metadata": {},
     "output_type": "execute_result"
    }
   ],
   "source": [
    "#Creando un Array - numpyarray\n",
    "valoraciones = np.array([[8,7,8,5], [2,6,8,1], [8,8,9,5]])\n",
    "valoraciones\n",
    "#Nos presentara una matriz con dos ejes.\n",
    "#Eje | donde tenemos 4 columnas y --> horizontal donde tenemos 3 filas"
   ]
  },
  {
   "cell_type": "code",
   "execution_count": 4,
   "id": "7e843126",
   "metadata": {},
   "outputs": [
    {
     "data": {
      "text/plain": [
       "np.int64(6)"
      ]
     },
     "execution_count": 4,
     "metadata": {},
     "output_type": "execute_result"
    }
   ],
   "source": [
    "#Accediendo a la dimension 0 (de los horizontes) y a la simension 1 (de las filas)\n",
    "valoraciones[1][1]"
   ]
  },
  {
   "cell_type": "code",
   "execution_count": 5,
   "id": "856c527f",
   "metadata": {},
   "outputs": [
    {
     "data": {
      "text/plain": [
       "np.int64(7)"
      ]
     },
     "execution_count": 5,
     "metadata": {},
     "output_type": "execute_result"
    }
   ],
   "source": [
    "#Alternativo\n",
    "valoraciones[0,1]"
   ]
  },
  {
   "cell_type": "code",
   "execution_count": 6,
   "id": "e08126aa",
   "metadata": {},
   "outputs": [
    {
     "data": {
      "text/plain": [
       "array([[[8, 7, 8, 5],\n",
       "        [2, 6, 8, 1],\n",
       "        [8, 8, 9, 5]],\n",
       "\n",
       "       [[1, 3, 5, 7],\n",
       "        [9, 2, 4, 6],\n",
       "        [0, 1, 2, 3]],\n",
       "\n",
       "       [[0, 1, 2, 7],\n",
       "        [4, 1, 2, 6],\n",
       "        [6, 7, 5, 1]]])"
      ]
     },
     "execution_count": 6,
     "metadata": {},
     "output_type": "execute_result"
    }
   ],
   "source": [
    "valoraciones2 = np.array([[[8, 7, 8, 5], [2, 6, 8, 1], [8, 8, 9, 5]],\n",
    "                          [[1, 3, 5, 7], [9, 2, 4, 6], [0, 1, 2, 3]],\n",
    "                          [[0, 1, 2, 7], [4, 1, 2, 6], [6, 7, 5, 1]]])\n",
    "valoraciones2"
   ]
  },
  {
   "cell_type": "code",
   "execution_count": 7,
   "id": "5145d257",
   "metadata": {},
   "outputs": [
    {
     "data": {
      "text/plain": [
       "np.int64(9)"
      ]
     },
     "execution_count": 7,
     "metadata": {},
     "output_type": "execute_result"
    }
   ],
   "source": [
    "valoraciones2[0,2,2]"
   ]
  },
  {
   "cell_type": "code",
   "execution_count": 8,
   "id": "6fcd4729",
   "metadata": {},
   "outputs": [
    {
     "data": {
      "text/plain": [
       "array([[[0., 0., 0., 0.],\n",
       "        [0., 0., 0., 0.]],\n",
       "\n",
       "       [[0., 0., 0., 0.],\n",
       "        [0., 0., 0., 0.]],\n",
       "\n",
       "       [[0., 0., 0., 0.],\n",
       "        [0., 0., 0., 0.]]])"
      ]
     },
     "execution_count": 8,
     "metadata": {},
     "output_type": "execute_result"
    }
   ],
   "source": [
    "#Crear arrays vacios\n",
    "np.zeros ((3,2,4))\n",
    "#3 = Cantidad de contenedores\n",
    "#2 = numero de horizontales\n",
    "#4 = numero de columnas"
   ]
  },
  {
   "cell_type": "code",
   "execution_count": null,
   "id": "98c82c94",
   "metadata": {},
   "outputs": [
    {
     "data": {
      "text/plain": [
       "array([[[ 9.,  8.,  9.,  6.],\n",
       "        [ 3.,  7.,  9.,  2.],\n",
       "        [ 9.,  9., 10.,  6.]],\n",
       "\n",
       "       [[ 2.,  4.,  6.,  8.],\n",
       "        [10.,  3.,  5.,  7.],\n",
       "        [ 1.,  2.,  3.,  4.]],\n",
       "\n",
       "       [[ 1.,  2.,  3.,  8.],\n",
       "        [ 5.,  2.,  3.,  7.],\n",
       "        [ 7.,  8.,  6.,  2.]]])"
      ]
     },
     "execution_count": 13,
     "metadata": {},
     "output_type": "execute_result"
    }
   ],
   "source": [
    "#Operaciones entre arrays de mismo tamaño\n",
    "#Los valores de los contenedores se estan sumando en  +1\n",
    "valoraciones2 + np.ones((3,3,4))"
   ]
  },
  {
   "cell_type": "code",
   "execution_count": null,
   "id": "715d74bf",
   "metadata": {},
   "outputs": [
    {
     "data": {
      "text/plain": [
       "np.float64(4.444444444444445)"
      ]
     },
     "execution_count": 14,
     "metadata": {},
     "output_type": "execute_result"
    }
   ],
   "source": [
    "#Aplicamos la media a todos los valores de los arrays\n",
    "np.mean(valoraciones2)"
   ]
  },
  {
   "cell_type": "code",
   "execution_count": 20,
   "id": "cc11827b",
   "metadata": {},
   "outputs": [
    {
     "data": {
      "text/plain": [
       "array([[7.  , 4.25, 7.5 ],\n",
       "       [4.  , 5.25, 1.5 ],\n",
       "       [2.5 , 3.25, 4.75]])"
      ]
     },
     "execution_count": 20,
     "metadata": {},
     "output_type": "execute_result"
    }
   ],
   "source": [
    "#Calculamos la media de seleccionando su dimension\n",
    "np.mean(valoraciones2,axis=2)"
   ]
  },
  {
   "cell_type": "code",
   "execution_count": 21,
   "id": "7125a297",
   "metadata": {},
   "outputs": [
    {
     "data": {
      "text/plain": [
       "array([[[ 1,  2],\n",
       "        [ 3,  4]],\n",
       "\n",
       "       [[ 5,  6],\n",
       "        [ 7,  8]],\n",
       "\n",
       "       [[ 9, 10],\n",
       "        [11, 12]]])"
      ]
     },
     "execution_count": 21,
     "metadata": {},
     "output_type": "execute_result"
    }
   ],
   "source": [
    "#Nos permite convertir una lista  a las dimensiones que nosotros queramos\n",
    "np.reshape([1,2,3,4,5,6,7,8,9,10,11,12], (3,2,2))"
   ]
  },
  {
   "cell_type": "code",
   "execution_count": null,
   "id": "40811a67",
   "metadata": {},
   "outputs": [],
   "source": [
    "np.median(df[\"Columna1\"])"
   ]
  },
  {
   "cell_type": "code",
   "execution_count": null,
   "id": "6c21e721",
   "metadata": {},
   "outputs": [
    {
     "data": {
      "text/plain": [
       "array([[0.19514849, 0.9223037 ],\n",
       "       [0.22781185, 0.14329847]])"
      ]
     },
     "execution_count": 22,
     "metadata": {},
     "output_type": "execute_result"
    }
   ],
   "source": [
    "#Nos permite crear numeros aleatorios\n",
    "np.random.rand(2,2)"
   ]
  },
  {
   "cell_type": "code",
   "execution_count": null,
   "id": "41727ba8",
   "metadata": {},
   "outputs": [],
   "source": []
  }
 ],
 "metadata": {
  "kernelspec": {
   "display_name": ".venv",
   "language": "python",
   "name": "python3"
  },
  "language_info": {
   "codemirror_mode": {
    "name": "ipython",
    "version": 3
   },
   "file_extension": ".py",
   "mimetype": "text/x-python",
   "name": "python",
   "nbconvert_exporter": "python",
   "pygments_lexer": "ipython3",
   "version": "3.13.1"
  }
 },
 "nbformat": 4,
 "nbformat_minor": 5
}
